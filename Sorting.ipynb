{
 "cells": [
  {
   "cell_type": "code",
   "execution_count": 41,
   "metadata": {},
   "outputs": [],
   "source": [
    "#Bubble Sort"
   ]
  },
  {
   "cell_type": "code",
   "execution_count": 42,
   "metadata": {},
   "outputs": [
    {
     "name": "stdout",
     "output_type": "stream",
     "text": [
      "a =  [1, 3, 6, 4, 2, 5]\n",
      "a =  [1, 3, 6, 4, 2, 5]\n",
      "a =  [1, 3, 4, 6, 2, 5]\n",
      "a =  [1, 3, 4, 2, 6, 5]\n",
      "a =  [1, 3, 4, 2, 5, 6]\n",
      "a =  [1, 3, 4, 2, 5, 6]\n",
      "a =  [1, 3, 4, 2, 5, 6]\n",
      "a =  [1, 3, 2, 4, 5, 6]\n",
      "a =  [1, 3, 2, 4, 5, 6]\n",
      "a =  [1, 3, 2, 4, 5, 6]\n",
      "a =  [1, 3, 2, 4, 5, 6]\n",
      "a =  [1, 2, 3, 4, 5, 6]\n",
      "a =  [1, 2, 3, 4, 5, 6]\n",
      "a =  [1, 2, 3, 4, 5, 6]\n",
      "a =  [1, 2, 3, 4, 5, 6]\n",
      "a =  [1, 2, 3, 4, 5, 6]\n",
      "a =  [1, 2, 3, 4, 5, 6]\n",
      "a =  [1, 2, 3, 4, 5, 6]\n",
      "a =  [1, 2, 3, 4, 5, 6]\n",
      "a =  [1, 2, 3, 4, 5, 6]\n",
      "a =  [1, 2, 3, 4, 5, 6]\n",
      "a =  [1, 2, 3, 4, 5, 6]\n",
      "a =  [1, 2, 3, 4, 5, 6]\n",
      "a =  [1, 2, 3, 4, 5, 6]\n",
      "a =  [1, 2, 3, 4, 5, 6]\n",
      "iterasi =  25\n"
     ]
    }
   ],
   "source": [
    "#bubblesort dari terkecil\n",
    "a = [3, 1, 6, 4, 2, 5]\n",
    "iterasi=0\n",
    "for i in range(1,len(a)):\n",
    "    for j in range(0,len(a)-1):\n",
    "        iterasi=iterasi+1\n",
    "        if a[j]>a[j+1]:\n",
    "            a[j],a[j+1]=a[j+1],a[j]\n",
    "        print(\"a = \",a)\n",
    "print(\"iterasi = \",iterasi)"
   ]
  },
  {
   "cell_type": "code",
   "execution_count": 43,
   "metadata": {},
   "outputs": [
    {
     "name": "stdout",
     "output_type": "stream",
     "text": [
      "a =  [6, 3, 8, 9, 1]\n",
      "a =  [6, 8, 3, 9, 1]\n",
      "a =  [6, 8, 9, 3, 1]\n",
      "a =  [6, 8, 9, 3, 1]\n",
      "a =  [8, 6, 9, 3, 1]\n",
      "a =  [8, 9, 6, 3, 1]\n",
      "a =  [8, 9, 6, 3, 1]\n",
      "a =  [8, 9, 6, 3, 1]\n",
      "a =  [9, 8, 6, 3, 1]\n",
      "a =  [9, 8, 6, 3, 1]\n",
      "a =  [9, 8, 6, 3, 1]\n",
      "a =  [9, 8, 6, 3, 1]\n",
      "a =  [9, 8, 6, 3, 1]\n",
      "a =  [9, 8, 6, 3, 1]\n",
      "a =  [9, 8, 6, 3, 1]\n",
      "a =  [9, 8, 6, 3, 1]\n",
      "16\n"
     ]
    }
   ],
   "source": [
    "#bubblesort dari terbesar\n",
    "a = [3,6,8,9,1]\n",
    "iterasi=0\n",
    "for i in range(1,len(a)):\n",
    "    for j in range(0,len(a)-1):\n",
    "        iterasi=iterasi+1\n",
    "        if a[j]<a[j+1]:\n",
    "            a[j],a[j+1]=a[j+1],a[j]\n",
    "        print(\"a = \",a)\n",
    "print(iterasi)"
   ]
  },
  {
   "cell_type": "code",
   "execution_count": 44,
   "metadata": {},
   "outputs": [],
   "source": [
    "#SELECTION SORT"
   ]
  },
  {
   "cell_type": "code",
   "execution_count": 45,
   "metadata": {},
   "outputs": [
    {
     "name": "stdout",
     "output_type": "stream",
     "text": [
      "a =  [1, 6, 8, 9, 3]\n",
      "a =  [1, 3, 8, 9, 6]\n",
      "a =  [1, 3, 6, 9, 8]\n",
      "a =  [1, 3, 6, 8, 9]\n",
      "10\n"
     ]
    }
   ],
   "source": [
    "#selectionsort\n",
    "a = [3,6,8,9,1]\n",
    "iterasi=0\n",
    "for i in range(0,len(a)-1):\n",
    "    imin=i\n",
    "    for j in range(i+1,len(a)):\n",
    "        iterasi=iterasi+1\n",
    "        if a[j]<a[imin]:\n",
    "            imin=j\n",
    "    if imin != i :\n",
    "        temp=a[i]\n",
    "        a[i]=a[imin]\n",
    "        a[imin]=temp\n",
    "        print(\"a = \",a)\n",
    "print(iterasi)"
   ]
  },
  {
   "cell_type": "code",
   "execution_count": 46,
   "metadata": {},
   "outputs": [
    {
     "name": "stdout",
     "output_type": "stream",
     "text": [
      "[4, 9, 3, 6, 2, 1]\n",
      "[4, 9, 3, 6, 2, 1]\n",
      "[4, 9, 3, 6, 2, 1]\n",
      "[4, 9, 3, 6, 2, 1]\n",
      "[4, 9, 3, 6, 2, 1]\n",
      "[1, 9, 3, 6, 2, 4]\n",
      "[1, 9, 3, 6, 2, 4]\n",
      "[1, 9, 3, 6, 2, 4]\n",
      "[1, 9, 3, 6, 2, 4]\n",
      "[1, 2, 3, 6, 9, 4]\n",
      "[1, 2, 3, 6, 9, 4]\n",
      "[1, 2, 3, 6, 9, 4]\n",
      "[1, 2, 3, 6, 9, 4]\n",
      "[1, 2, 3, 6, 9, 4]\n",
      "[1, 2, 3, 4, 9, 6]\n",
      "a =  [1, 2, 3, 4, 6, 9]\n",
      "15\n"
     ]
    }
   ],
   "source": [
    "#selectionsort(nilai minimum di awal)\n",
    "a = [4,9,3,6,2,1]\n",
    "iterasi=0\n",
    "for i in range(0,len(a)-1):\n",
    "    imin=i\n",
    "    for j in range(i+1,len(a)):\n",
    "        iterasi=iterasi+1\n",
    "        if a[j]<a[imin]:\n",
    "            imin=j\n",
    "        print(a)\n",
    "    temp=a[i]\n",
    "    a[i]=a[imin]\n",
    "    a[imin]=temp\n",
    "print(\"a = \",a)\n",
    "print(iterasi)"
   ]
  },
  {
   "cell_type": "code",
   "execution_count": 47,
   "metadata": {},
   "outputs": [
    {
     "name": "stdout",
     "output_type": "stream",
     "text": [
      "[3, 1, 9, 6, 2, 4]\n",
      "[3, 1, 9, 6, 2, 4]\n",
      "[3, 1, 9, 6, 2, 4]\n",
      "[3, 1, 9, 6, 2, 4]\n",
      "[3, 1, 9, 6, 2, 4]\n",
      "[3, 4, 9, 6, 2, 1]\n",
      "[3, 4, 9, 6, 2, 1]\n",
      "[3, 4, 9, 6, 2, 1]\n",
      "[3, 4, 9, 6, 2, 1]\n",
      "[3, 4, 9, 6, 2, 1]\n",
      "[3, 4, 9, 6, 2, 1]\n",
      "[3, 4, 9, 6, 2, 1]\n",
      "[6, 4, 9, 3, 2, 1]\n",
      "[6, 4, 9, 3, 2, 1]\n",
      "[6, 9, 4, 3, 2, 1]\n",
      "a = [9, 6, 4, 3, 2, 1]\n",
      "15\n"
     ]
    }
   ],
   "source": [
    "#selectionsort(nilai minimum di akhir)\n",
    "a = [3,1,9,6,2,4]\n",
    "iterasi=0\n",
    "for i in range(len(a)-1,0,-1):\n",
    "    imin=i\n",
    "    for j in range(i-1,-1,-1):\n",
    "        iterasi=iterasi+1\n",
    "        if a[j]<a[imin]:\n",
    "            imin=j\n",
    "        print(a)\n",
    "    temp=a[i]\n",
    "    a[i]=a[imin]\n",
    "    a[imin]=temp\n",
    "print(\"a =\",a)\n",
    "print(iterasi)\n"
   ]
  },
  {
   "cell_type": "code",
   "execution_count": 48,
   "metadata": {},
   "outputs": [
    {
     "name": "stdout",
     "output_type": "stream",
     "text": [
      "[4, 9, 3, 6, 2, 1]\n",
      "[4, 9, 3, 6, 2, 1]\n",
      "[4, 9, 3, 6, 2, 1]\n",
      "[4, 9, 3, 6, 2, 1]\n",
      "[4, 9, 3, 6, 2, 1]\n",
      "[9, 4, 3, 6, 2, 1]\n",
      "[9, 4, 3, 6, 2, 1]\n",
      "[9, 4, 3, 6, 2, 1]\n",
      "[9, 4, 3, 6, 2, 1]\n",
      "[9, 6, 3, 4, 2, 1]\n",
      "[9, 6, 3, 4, 2, 1]\n",
      "[9, 6, 3, 4, 2, 1]\n",
      "[9, 6, 4, 3, 2, 1]\n",
      "[9, 6, 4, 3, 2, 1]\n",
      "[9, 6, 4, 3, 2, 1]\n",
      "15\n"
     ]
    }
   ],
   "source": [
    "#selectionsort(nilai maksimum di awal)\n",
    "#selection p2\n",
    "a = [4,9,3,6,2,1]\n",
    "iterasi=0\n",
    "for i in range(0,len(a)-1):\n",
    "    imin=i\n",
    "    for j in range(i+1,len(a)):\n",
    "        iterasi=iterasi+1\n",
    "        if a[j]>a[imin]:\n",
    "            imin=j\n",
    "        print(a)\n",
    "    temp=a[i]\n",
    "    a[i]=a[imin]\n",
    "    a[imin]=temp\n",
    "print(iterasi)\n",
    "\n"
   ]
  },
  {
   "cell_type": "code",
   "execution_count": 49,
   "metadata": {
    "scrolled": true
   },
   "outputs": [
    {
     "name": "stdout",
     "output_type": "stream",
     "text": [
      "[3, 1, 9, 6, 2, 4]\n",
      "[3, 1, 9, 6, 2, 4]\n",
      "[3, 1, 9, 6, 2, 4]\n",
      "[3, 1, 9, 6, 2, 4]\n",
      "[3, 1, 9, 6, 2, 4]\n",
      "[3, 1, 4, 6, 2, 9]\n",
      "[3, 1, 4, 6, 2, 9]\n",
      "[3, 1, 4, 6, 2, 9]\n",
      "[3, 1, 4, 6, 2, 9]\n",
      "[3, 1, 4, 2, 6, 9]\n",
      "[3, 1, 4, 2, 6, 9]\n",
      "[3, 1, 4, 2, 6, 9]\n",
      "[3, 1, 2, 4, 6, 9]\n",
      "[3, 1, 2, 4, 6, 9]\n",
      "[2, 1, 3, 4, 6, 9]\n",
      "[1, 2, 3, 4, 6, 9]\n",
      "15\n"
     ]
    }
   ],
   "source": [
    "#selectionsort(nilai maksimum di akhir)\n",
    "a = [3,1,9,6,2,4]\n",
    "iterasi=0\n",
    "for i in range(len(a)-1,0,-1):\n",
    "    imin=i\n",
    "    for j in range(i-1,-1,-1):\n",
    "        iterasi=iterasi+1\n",
    "        if a[j]>a[imin]:\n",
    "            imin=j\n",
    "        print(a)\n",
    "    temp=a[i]\n",
    "    a[i]=a[imin]\n",
    "    a[imin]=temp\n",
    "print(a)\n",
    "print(iterasi)\n"
   ]
  },
  {
   "cell_type": "code",
   "execution_count": 50,
   "metadata": {},
   "outputs": [],
   "source": [
    "#INSERTION SORT"
   ]
  },
  {
   "cell_type": "code",
   "execution_count": 51,
   "metadata": {},
   "outputs": [
    {
     "name": "stdout",
     "output_type": "stream",
     "text": [
      "[2, 5, 4, 6, 1, 3]\n",
      "[2, 4, 5, 6, 1, 3]\n",
      "[2, 4, 5, 6, 1, 3]\n",
      "[1, 2, 4, 5, 6, 3]\n",
      "[1, 2, 3, 4, 5, 6]\n"
     ]
    }
   ],
   "source": [
    "#insertionsort dari yang terkecil\n",
    "a = [5, 2, 4 ,6 , 1 , 3 ]\n",
    "for i in range(1, len(a)):\n",
    "    value = a[i]\n",
    "    hode = i\n",
    "    while hode >0 and a[hode-1] > value:\n",
    "        a[hode]=a[hode-1]\n",
    "        hode = hode - 1\n",
    "    a[hode]=value\n",
    "    print(a)"
   ]
  },
  {
   "cell_type": "code",
   "execution_count": 52,
   "metadata": {
    "scrolled": true
   },
   "outputs": [
    {
     "name": "stdout",
     "output_type": "stream",
     "text": [
      "[5, 2, 4, 6, 1, 3]\n",
      "[5, 4, 2, 6, 1, 3]\n",
      "[6, 5, 4, 2, 1, 3]\n",
      "[6, 5, 4, 2, 1, 3]\n",
      "[6, 5, 4, 3, 2, 1]\n"
     ]
    }
   ],
   "source": [
    "#insertionsort dari yang terbesar\n",
    "a = [5, 2, 4 ,6 , 1 , 3 ]\n",
    "for i in range(1, len(a)):\n",
    "    value = a[i]\n",
    "    hode = i\n",
    "    while hode >0 and a[hode-1] < value:\n",
    "        a[hode]=a[hode-1]\n",
    "        hode = hode - 1\n",
    "    a[hode]=value\n",
    "    print(a)"
   ]
  },
  {
   "cell_type": "code",
   "execution_count": 53,
   "metadata": {},
   "outputs": [
    {
     "name": "stdout",
     "output_type": "stream",
     "text": [
      "[2, 5, 4, 6, 1, 3]\n",
      "[2, 4, 5, 6, 1, 3]\n",
      "[2, 4, 5, 6, 1, 3]\n",
      "[1, 2, 4, 5, 6, 3]\n",
      "[1, 2, 3, 4, 5, 6]\n"
     ]
    }
   ],
   "source": [
    "#insertion sort Cara 2\n",
    "a = [5, 2, 4 ,6 , 1 , 3 ]\n",
    "for index in range(1, len(a)):\n",
    "    value = a[index]\n",
    "    i = index - 1\n",
    "    while i >= 0:\n",
    "        if value < a[i]:\n",
    "            a[i+1]=a[i]\n",
    "            a[i]=value\n",
    "            i= i -1\n",
    "        else:\n",
    "            break\n",
    "    print(a)"
   ]
  },
  {
   "cell_type": "code",
   "execution_count": 54,
   "metadata": {},
   "outputs": [],
   "source": [
    "#QUICK SORT"
   ]
  },
  {
   "cell_type": "code",
   "execution_count": 55,
   "metadata": {},
   "outputs": [
    {
     "name": "stdout",
     "output_type": "stream",
     "text": [
      "[0, 6, 500, 4, 56, 2, 1, 100]\n",
      "[0, 6, 4, 56, 2, 1, 100, 500]\n",
      "[0, 1, 4, 56, 2, 6, 100, 500]\n",
      "[0, 1, 4, 2, 6, 56, 100, 500]\n",
      "[0, 1, 2, 4, 6, 56, 100, 500]\n",
      "[0, 1, 2, 4, 6, 56, 100, 500]\n"
     ]
    }
   ],
   "source": [
    "#quick sort pivot akhir\n",
    "def quicksortAwal(A):\n",
    "    quicksort(A,0,len(A)-1)\n",
    "def quicksort(A,start,end):\n",
    "    if start<end:\n",
    "        pindex=partition(A,start,end)\n",
    "        quicksort(A,start,pindex-1)\n",
    "        quicksort(A,pindex+1,end)\n",
    "def partition(A, start, end):\n",
    "    pivot=A[end]\n",
    "    pindex=start\n",
    "    for i in range(start,end):\n",
    "        if(A[i]<=pivot):\n",
    "            A[i],A[pindex]=A[pindex],A[i]\n",
    "            pindex+=1\n",
    "    A[pindex],A[end]=A[end],A[pindex]\n",
    "    print(A)\n",
    "    return pindex\n",
    "A=[100,6,500,4,56,2,1,0]\n",
    "quicksortAwal(A)\n",
    "print(A)"
   ]
  },
  {
   "cell_type": "code",
   "execution_count": 56,
   "metadata": {},
   "outputs": [
    {
     "name": "stdout",
     "output_type": "stream",
     "text": [
      "[1, 6, 0, 4, 56, 2, 100, 500]\n",
      "[0, 1, 6, 4, 56, 2, 100, 500]\n",
      "[0, 1, 2, 4, 6, 56, 100, 500]\n",
      "[0, 1, 2, 4, 6, 56, 100, 500]\n",
      "[0, 1, 2, 4, 6, 56, 100, 500]\n"
     ]
    }
   ],
   "source": [
    "#quick sort pivot awal\n",
    "def quicksortAwal(A):\n",
    "    quicksort(A,0,len(A)-1)\n",
    "def quicksort(A,start,end):\n",
    "    if start<end:\n",
    "        pindex=partition(A,start,end)\n",
    "        quicksort(A,start,pindex-1)\n",
    "        quicksort(A,pindex+1,end)\n",
    "def partition(A, start, end):\n",
    "    pivot=A[start]\n",
    "    pindex=end\n",
    "    for i in range(end,start,-1):\n",
    "        if(A[i]>=pivot):\n",
    "            A[i],A[pindex]=A[pindex],A[i]\n",
    "            pindex-=1\n",
    "    A[pindex],A[start]=A[start],A[pindex]\n",
    "    print(A)\n",
    "    return pindex\n",
    "A=[100,6,500,4,56,2,1,0]\n",
    "quicksortAwal(A)\n",
    "print(A)"
   ]
  },
  {
   "cell_type": "code",
   "execution_count": 57,
   "metadata": {},
   "outputs": [
    {
     "name": "stdout",
     "output_type": "stream",
     "text": [
      "[0, 1, 2, 4, 56, 500, 6, 100] 4\n",
      "[0, 1, 2, 4, 56, 500, 6, 100] 1\n",
      "[0, 1, 2, 4, 56, 6, 100, 500] 500\n",
      "[0, 1, 2, 4, 6, 56, 100, 500] 6\n",
      "[0, 1, 2, 4, 6, 56, 100, 500] 56\n",
      "[0, 1, 2, 4, 6, 56, 100, 500]\n"
     ]
    }
   ],
   "source": [
    "#quick sort pivot tengah\n",
    "def quicksortTengah(A):\n",
    "    quicksort(A,0,len(A)-1)\n",
    "def quicksort(A,start,end):\n",
    "    if start<end:\n",
    "        pindex=partition(A,start,end)\n",
    "        quicksort(A,start,pindex-1)\n",
    "        quicksort(A,pindex+1,end)\n",
    "def partition(A, start, end):\n",
    "    tengah = (start+end)//2\n",
    "    pivot=A.pop(tengah)\n",
    "    leftmark=start\n",
    "    rightmark=end-1\n",
    "    done = False\n",
    "    while not done:\n",
    "        while leftmark <= rightmark and A[leftmark] <= pivot:\n",
    "            leftmark = leftmark + 1\n",
    "        while A[rightmark] >= pivot and rightmark >= leftmark:\n",
    "            rightmark = rightmark -1\n",
    "        if rightmark < leftmark:\n",
    "            done = True\n",
    "        else:\n",
    "            temp = A[leftmark]\n",
    "            A[leftmark] = A[rightmark]\n",
    "            A[rightmark] = temp\n",
    "    A.insert(leftmark,pivot)\n",
    "    print(A,pivot)\n",
    "    return leftmark\n",
    "A=[100,6,500,4,56,2,1,0]\n",
    "quicksortTengah(A)\n",
    "print(A)"
   ]
  },
  {
   "cell_type": "code",
   "execution_count": 58,
   "metadata": {},
   "outputs": [],
   "source": [
    "#MARGED SORT"
   ]
  },
  {
   "cell_type": "code",
   "execution_count": 59,
   "metadata": {},
   "outputs": [
    {
     "name": "stdout",
     "output_type": "stream",
     "text": [
      "[17, 20, 26, 31, 44, 54, 55, 77, 93, 99, 100]\n"
     ]
    }
   ],
   "source": [
    "#mergedsort\n",
    "def MergedSort(A):\n",
    "    n = len(A)\n",
    "    if (n<2):\n",
    "       return\n",
    "    mid = len(A)//2\n",
    "    left = A[:mid]\n",
    "    right = A[mid:]\n",
    "    MergedSort(left)\n",
    "    MergedSort(right)\n",
    "    i=0\n",
    "    j=0\n",
    "    k=0\n",
    "    while i < len(left) and j < len(right):\n",
    "        if left[i] < right[j]:\n",
    "            A[k]=left[i]\n",
    "            i=i+1\n",
    "        else:\n",
    "            A[k]=right[j]\n",
    "            j=j+1\n",
    "        k=k+1\n",
    "\n",
    "    while i < len(left):\n",
    "        A[k]=left[i]\n",
    "        i=i+1\n",
    "        k=k+1\n",
    "\n",
    "    while j < len(right):\n",
    "        A[k]=right[j]\n",
    "        j=j+1\n",
    "        k=k+1\n",
    "\n",
    "Alist= [54,26,93,17,99,77,31,44,55,20,100]\n",
    "MergedSort(Alist)\n",
    "print(Alist)\n"
   ]
  },
  {
   "cell_type": "code",
   "execution_count": 62,
   "metadata": {},
   "outputs": [],
   "source": [
    "#SHELL SORT"
   ]
  },
  {
   "cell_type": "code",
   "execution_count": 61,
   "metadata": {},
   "outputs": [
    {
     "name": "stdout",
     "output_type": "stream",
     "text": [
      "[35, 33, 42, 10, 14, 19, 27, 44]\n",
      "4\n",
      "[14, 33, 42, 10, 35, 19, 27, 44]\n",
      "4\n",
      "[14, 19, 42, 10, 35, 33, 27, 44]\n",
      "4\n",
      "[14, 19, 27, 10, 35, 33, 42, 44]\n",
      "4\n",
      "[14, 19, 27, 10, 35, 33, 42, 44]\n",
      "2\n",
      "[14, 19, 27, 10, 35, 33, 42, 44]\n",
      "[14, 19, 27, 10, 35, 33, 42, 44]\n",
      "[14, 19, 27, 10, 35, 33, 42, 44]\n",
      "2\n",
      "[14, 10, 27, 19, 35, 33, 42, 44]\n",
      "[14, 10, 27, 19, 35, 33, 42, 44]\n",
      "[14, 10, 27, 19, 35, 33, 42, 44]\n",
      "1\n",
      "[10, 14, 27, 19, 35, 33, 42, 44]\n",
      "[10, 14, 27, 19, 35, 33, 42, 44]\n",
      "[10, 14, 19, 27, 35, 33, 42, 44]\n",
      "[10, 14, 19, 27, 35, 33, 42, 44]\n",
      "[10, 14, 19, 27, 33, 35, 42, 44]\n",
      "[10, 14, 19, 27, 33, 35, 42, 44]\n",
      "[10, 14, 19, 27, 33, 35, 42, 44]\n",
      "[10, 14, 19, 27, 33, 35, 42, 44]\n"
     ]
    }
   ],
   "source": [
    "#Shellsort\n",
    "def shellSort(alist):\n",
    "    sublistcount = len(alist)//2\n",
    "    while sublistcount > 0:\n",
    "\n",
    "      for startposition in range(sublistcount):\n",
    "        print(sublistcount)\n",
    "        gapInsertionSort(alist,startposition,sublistcount)\n",
    "      sublistcount = sublistcount // 2\n",
    "\n",
    "def gapInsertionSort(alist,start,gap):\n",
    "    for i in range(start+gap,len(alist),gap):\n",
    "\n",
    "        currentvalue = alist[i]\n",
    "        position = i\n",
    "\n",
    "        while position>=gap and alist[position-gap]>currentvalue:\n",
    "            alist[position]=alist[position-gap]\n",
    "            position = position-gap\n",
    "\n",
    "        alist[position]=currentvalue\n",
    "        print(alist)\n",
    "        \n",
    "\n",
    "\n",
    "alist = [35,33,42,10,14,19,27,44]\n",
    "print(alist)\n",
    "shellSort(alist)\n",
    "print(alist)"
   ]
  },
  {
   "cell_type": "code",
   "execution_count": null,
   "metadata": {},
   "outputs": [],
   "source": []
  },
  {
   "cell_type": "code",
   "execution_count": null,
   "metadata": {},
   "outputs": [],
   "source": []
  }
 ],
 "metadata": {
  "kernelspec": {
   "display_name": "Python 3",
   "language": "python",
   "name": "python3"
  },
  "language_info": {
   "codemirror_mode": {
    "name": "ipython",
    "version": 3
   },
   "file_extension": ".py",
   "mimetype": "text/x-python",
   "name": "python",
   "nbconvert_exporter": "python",
   "pygments_lexer": "ipython3",
   "version": "3.6.5"
  }
 },
 "nbformat": 4,
 "nbformat_minor": 2
}
