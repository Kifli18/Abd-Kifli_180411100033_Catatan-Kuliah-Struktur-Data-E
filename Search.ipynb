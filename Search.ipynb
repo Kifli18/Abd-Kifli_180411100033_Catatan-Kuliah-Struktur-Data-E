{
 "cells": [
  {
   "cell_type": "code",
   "execution_count": 30,
   "metadata": {},
   "outputs": [],
   "source": [
    "#Linier Search"
   ]
  },
  {
   "cell_type": "code",
   "execution_count": 33,
   "metadata": {},
   "outputs": [
    {
     "name": "stdout",
     "output_type": "stream",
     "text": [
      "masukkan angka yang ingin dicari 6\n",
      "angka ditemukan\n",
      "angka ada di indeks ke  2\n",
      "iterasinya sebanyak 7\n"
     ]
    }
   ],
   "source": [
    "#linier search pencarian dari belakang\n",
    "cari = int(input(\"masukkan angka yang ingin dicari \"))\n",
    "a = [2,5,6,7,3,8,12,3,11]\n",
    "posisi = len(a)-1\n",
    "akhir = 0\n",
    "iterasi = 0\n",
    "found = False\n",
    "while posisi >= akhir and not found:\n",
    "    iterasi+=1\n",
    "    if a[posisi] == cari:\n",
    "        found = True\n",
    "    else:\n",
    "        posisi -= 1\n",
    "if found:\n",
    "    print(\"angka ditemukan\")\n",
    "    print(\"angka ada di indeks ke \",posisi)\n",
    "    print(\"iterasinya sebanyak\",iterasi)\n",
    "else:\n",
    "    print(\"angka tidak ditemukan\")"
   ]
  },
  {
   "cell_type": "code",
   "execution_count": 34,
   "metadata": {},
   "outputs": [
    {
     "name": "stdout",
     "output_type": "stream",
     "text": [
      "masukkan angka yang ingin dicari 6\n",
      "angka ditemukan\n",
      "angka ada di indeks ke  2\n",
      "iterasinya sebanyak 3\n"
     ]
    }
   ],
   "source": [
    "#linier search pencarian dari depan\n",
    "cari = int(input(\"masukkan angka yang ingin dicari \"))\n",
    "a = [2,5,6,7,3,8,12,3,11]\n",
    "posisi = 0\n",
    "akhir = len(a)-1\n",
    "iterasi=0\n",
    "found = False\n",
    "while posisi <= akhir and not found:\n",
    "    iterasi+=1\n",
    "    if a[posisi] == cari:\n",
    "        found = True\n",
    "    else:\n",
    "        posisi = posisi + 1\n",
    "if found:\n",
    "    print(\"angka ditemukan\")\n",
    "    print(\"angka ada di indeks ke \",posisi)\n",
    "    print(\"iterasinya sebanyak\",iterasi)\n",
    "else:\n",
    "    print(\"angka tidak ditemukan\")"
   ]
  },
  {
   "cell_type": "code",
   "execution_count": 35,
   "metadata": {},
   "outputs": [
    {
     "name": "stdout",
     "output_type": "stream",
     "text": [
      "angka ditemukan\n",
      "angka ada di indeks ke  1\n",
      "iterasi sebanyak 2\n"
     ]
    }
   ],
   "source": [
    "#linier search dari depan (funtion)\n",
    "def deret (cari, a):\n",
    "    posisi = 0\n",
    "    akhir = len(a)-1\n",
    "    iterasi=0\n",
    "    found = False\n",
    "    while posisi <= akhir and not found:\n",
    "        iterasi+=1\n",
    "        if a[posisi] == cari:\n",
    "            found = True\n",
    "        else:\n",
    "            posisi = posisi + 1\n",
    "    if found:\n",
    "        print(\"angka ditemukan\")\n",
    "        print(\"angka ada di indeks ke \",posisi)\n",
    "        print(\"iterasi sebanyak\",iterasi)\n",
    "    else:\n",
    "        print(\"angka tidak ditemukan\")\n",
    "deret(2,[1,2,3,4,5,6])"
   ]
  },
  {
   "cell_type": "code",
   "execution_count": 36,
   "metadata": {},
   "outputs": [
    {
     "name": "stdout",
     "output_type": "stream",
     "text": [
      "angka ditemukan\n",
      "angka ada di indeks ke  1\n",
      "iterasinya sebanyak 5\n"
     ]
    }
   ],
   "source": [
    "#linier search dari belakang (fungsi)\n",
    "def deret (cari, a):\n",
    "    posisi = len(a)-1\n",
    "    akhir = 0\n",
    "    iterasi = 0\n",
    "    found = False\n",
    "    while posisi >= akhir and not found:\n",
    "        iterasi+=1\n",
    "        if a[posisi] == cari:\n",
    "            found = True\n",
    "        else:\n",
    "            posisi -= 1\n",
    "    if found:\n",
    "        print(\"angka ditemukan\")\n",
    "        print(\"angka ada di indeks ke \",posisi)\n",
    "        print(\"iterasinya sebanyak\",iterasi)\n",
    "    else:\n",
    "        print(\"angka tidak ditemukan\")\n",
    "deret(2,[1,2,3,4,5,6])"
   ]
  },
  {
   "cell_type": "code",
   "execution_count": 37,
   "metadata": {},
   "outputs": [
    {
     "name": "stdout",
     "output_type": "stream",
     "text": [
      "masukkan angka yang ingin dicari 5\n",
      "agka tidak ditemukan\n",
      "agka tidak ditemukan\n",
      "agka tidak ditemukan\n",
      "agka tidak ditemukan\n",
      "angka ditemukan\n",
      "angka ada di indeks ke  4\n"
     ]
    }
   ],
   "source": [
    "#penggunaan for linier search\n",
    "cari = int(input(\"masukkan angka yang ingin dicari \"))\n",
    "a = [1,2,3,4,5,6]\n",
    "posisi =0\n",
    "akhir = len(a)-1\n",
    "found = False\n",
    "for posisi in range(akhir):\n",
    "    if a[posisi] == cari:\n",
    "        found = True\n",
    "        print(\"angka ditemukan\")\n",
    "        print(\"angka ada di indeks ke \",posisi)\n",
    "    else:\n",
    "        print(\"agka tidak ditemukan\")"
   ]
  },
  {
   "cell_type": "code",
   "execution_count": 38,
   "metadata": {},
   "outputs": [],
   "source": [
    "#Binary Search"
   ]
  },
  {
   "cell_type": "code",
   "execution_count": 44,
   "metadata": {},
   "outputs": [
    {
     "name": "stdout",
     "output_type": "stream",
     "text": [
      "angka ditemukan\n",
      "ada di indeks ke  1\n",
      "iterasi sebanyak  2\n"
     ]
    }
   ],
   "source": [
    "#Binary search tengah = midle +- 1\n",
    "cari = 3\n",
    "a = [2,5,6,7,3,8,12,3,11]\n",
    "a.sort()\n",
    "awal=0\n",
    "iterasi=0\n",
    "akhir = len(a)-1\n",
    "found = False\n",
    "\n",
    "while awal <= akhir and not found:\n",
    "    iterasi+=1\n",
    "    midle= (awal +  akhir)//2\n",
    "    if a[midle] == cari:\n",
    "        found = True\n",
    "    else:\n",
    "        if cari < a[midle]:\n",
    "            akhir = midle - 1\n",
    "        else:\n",
    "            awal = midle + 1\n",
    "        \n",
    "if found:\n",
    "    print(\"angka ditemukan\")\n",
    "    print(\"ada di indeks ke \",midle)\n",
    "    print(\"iterasi sebanyak \",iterasi)\n",
    "else:\n",
    "    print(\"angka tidak ditemukan\")"
   ]
  },
  {
   "cell_type": "code",
   "execution_count": 45,
   "metadata": {},
   "outputs": [
    {
     "name": "stdout",
     "output_type": "stream",
     "text": [
      "angka ditemukan\n",
      "ada di indek ke  2\n",
      "iterasi sebanyak  2\n"
     ]
    }
   ],
   "source": [
    "#binary search tengah = midle\n",
    "cari = 3\n",
    "a = [2,5,6,7,3,8,12,3,11]\n",
    "a.sort()\n",
    "awal=0\n",
    "iterasi=0\n",
    "akhir = len(a)-1\n",
    "found = False\n",
    "\n",
    "while awal <= akhir and not found:\n",
    "    iterasi+=1\n",
    "    midle= (awal +  akhir)//2\n",
    "    if a[midle] == cari:\n",
    "        found = True\n",
    "    else:\n",
    "        if cari < a[midle]:\n",
    "            akhir = midle\n",
    "        else:\n",
    "            awal = midle\n",
    "        \n",
    "if found:\n",
    "    print(\"angka ditemukan\")\n",
    "    print(\"ada di indek ke \",midle)\n",
    "    print(\"iterasi sebanyak \",iterasi)\n",
    "else:\n",
    "    print(\"angka tidak ditemukan\")"
   ]
  },
  {
   "cell_type": "code",
   "execution_count": 46,
   "metadata": {},
   "outputs": [
    {
     "name": "stdout",
     "output_type": "stream",
     "text": [
      "angka 5 ditemukan\n",
      "ada di indek ke  3\n",
      "iterasi sebanyak  4\n"
     ]
    }
   ],
   "source": [
    "#Binary search tengah = midle +- 1 (function)\n",
    "def angka(cari,a):\n",
    "    a.sort()\n",
    "    awal=0\n",
    "    iterasi=0\n",
    "    akhir = len(a)-1\n",
    "    found = False\n",
    "\n",
    "    while awal <= akhir and not found:\n",
    "        iterasi+=1\n",
    "        midle= (awal +  akhir)//2\n",
    "        if a[midle] == cari:\n",
    "            found = True\n",
    "        else:\n",
    "            if cari < a[midle]:\n",
    "                akhir = midle - 1\n",
    "            else:\n",
    "                awal = midle + 1\n",
    "        \n",
    "    if found:\n",
    "        print(\"angka\",cari,\"ditemukan\")\n",
    "        print(\"ada di indek ke \",midle)\n",
    "        print(\"iterasi sebanyak \",iterasi)\n",
    "    else:\n",
    "        print(\"angka tidak ditemukan\")\n",
    "angka(5,[2,5,6,7,3,8,12,3,11])"
   ]
  },
  {
   "cell_type": "code",
   "execution_count": 48,
   "metadata": {},
   "outputs": [
    {
     "name": "stdout",
     "output_type": "stream",
     "text": [
      "angka 3 ditemukan\n",
      "ada di indek ke  2\n",
      "iterasi sebanyak  2\n"
     ]
    }
   ],
   "source": [
    "#Binary search tengah midle(function)\n",
    "def angka(cari,a):\n",
    "    a.sort()\n",
    "    awal=0\n",
    "    iterasi=0\n",
    "    akhir = len(a)-1\n",
    "    found = False\n",
    "\n",
    "    while awal <= akhir and not found:\n",
    "        iterasi+=1\n",
    "        midle= (awal +  akhir)//2\n",
    "        if a[midle] == cari:\n",
    "            found = True\n",
    "        else:\n",
    "            if cari < a[midle]:\n",
    "                akhir = midle\n",
    "            else:\n",
    "                awal = midle\n",
    "\n",
    "    if found:\n",
    "        print(\"angka\",cari,\"ditemukan\")\n",
    "        print(\"ada di indek ke \",midle)\n",
    "        print(\"iterasi sebanyak \",iterasi)\n",
    "    else:\n",
    "        print(\"angka tidak ditemukan\")\n",
    "angka(3,[2,5,6,7,3,8,12,3,11])"
   ]
  },
  {
   "cell_type": "code",
   "execution_count": null,
   "metadata": {},
   "outputs": [],
   "source": []
  }
 ],
 "metadata": {
  "kernelspec": {
   "display_name": "Python 3",
   "language": "python",
   "name": "python3"
  },
  "language_info": {
   "codemirror_mode": {
    "name": "ipython",
    "version": 3
   },
   "file_extension": ".py",
   "mimetype": "text/x-python",
   "name": "python",
   "nbconvert_exporter": "python",
   "pygments_lexer": "ipython3",
   "version": "3.6.5"
  }
 },
 "nbformat": 4,
 "nbformat_minor": 2
}
