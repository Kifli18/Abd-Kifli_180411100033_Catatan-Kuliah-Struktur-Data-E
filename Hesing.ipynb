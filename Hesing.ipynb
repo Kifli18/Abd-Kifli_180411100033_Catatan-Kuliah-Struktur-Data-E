{
 "cells": [
  {
   "cell_type": "code",
   "execution_count": 11,
   "metadata": {},
   "outputs": [
    {
     "name": "stdout",
     "output_type": "stream",
     "text": [
      "[None, None, None, None, None, None, None, None, None, None, None]\n",
      "[None, None, None, None, None, None, None, None, None, None, '54']\n",
      "[None, None, None, None, '26', None, None, None, None, None, '54']\n",
      "[None, None, None, None, '26', '93', None, None, None, None, '54']\n",
      "[None, None, None, None, '26', '93', '17', None, None, None, '54']\n",
      "['77', None, None, None, '26', '93', '17', None, None, None, '54']\n",
      "['77', None, None, None, '26', '93', '17', None, None, '31', '54']\n",
      "['77', '44', None, None, '26', '93', '17', None, None, '31', '54']\n",
      "['77', '44', '55', None, '26', '93', '17', None, None, '31', '54']\n",
      "['77', '44', '55', '20', '26', '93', '17', None, None, '31', '54']\n"
     ]
    }
   ],
   "source": [
    "#linier_probbing\n",
    "\n",
    "\n",
    "table=[None]*11\n",
    "\n",
    "def hash(x):\n",
    "    return x%11\n",
    "def insert(table,key,value):\n",
    "    index=hash(key)\n",
    "    if table[index]==None:\n",
    "        table[index]=value\n",
    "    else:\n",
    "        collusion=index\n",
    "        found=False\n",
    "        ind=collusion+1\n",
    "        if ind>=len(table)-1:\n",
    "            ind=0\n",
    "        while(ind<=len(table)-1) and not(found):\n",
    "            if table[ind]==None:\n",
    "                found=True\n",
    "                table[ind]=value\n",
    "            ind=ind+1\n",
    "\n",
    "print(table)\n",
    "insert(table,54,'54')\n",
    "print(table)\n",
    "insert(table,26,'26')\n",
    "print(table)\n",
    "insert(table,93,'93')\n",
    "print(table)\n",
    "insert(table,17,'17')\n",
    "print(table)\n",
    "insert(table,77,'77')\n",
    "print(table)\n",
    "insert(table,31,'31')\n",
    "print(table)\n",
    "insert(table,44,'44')\n",
    "print(table)\n",
    "insert(table,55,'55')\n",
    "print(table)\n",
    "insert(table,20,'20')\n",
    "print(table)"
   ]
  },
  {
   "cell_type": "code",
   "execution_count": 12,
   "metadata": {},
   "outputs": [
    {
     "name": "stdout",
     "output_type": "stream",
     "text": [
      "[None, None, None, None, None, None, None, None, None, None, None]\n",
      "[None, None, None, None, None, None, None, None, None, None, '54']\n",
      "[None, None, None, None, '26', None, None, None, None, None, '54']\n",
      "[None, None, None, None, '26', '93', None, None, None, None, '54']\n",
      "[None, None, None, None, '26', '93', '17', None, None, None, '54']\n",
      "['77', None, None, None, '26', '93', '17', None, None, None, '54']\n",
      "['77', None, None, None, '26', '93', '17', None, None, '31', '54']\n",
      "['77', '44', None, None, '26', '93', '17', None, None, '31', '54']\n",
      "['77', '44', None, '55', '26', '93', '17', None, None, '31', '54']\n",
      "['77', '44', '20', '55', '26', '93', '17', None, None, '31', '54']\n"
     ]
    }
   ],
   "source": [
    "#Quadratic Probing\n",
    "\n",
    "\n",
    "table=[None]*11\n",
    "\n",
    "def hash(x):\n",
    "    return x% len(table)\n",
    "def insert(table,key,value):\n",
    "    index=hash(key)\n",
    "    if table[index]==None:\n",
    "        table[index]=value\n",
    "    else:\n",
    "        collusion = index\n",
    "        found = False\n",
    "        i = 1\n",
    "        ind = collusion + 1\n",
    "        if ind > len(table)-1:\n",
    "            ind=0\n",
    "        while (ind<=len(table)-1) and not found:\n",
    "            ind =(collusion+(i*i))%len(table)\n",
    "            if table[ind] == None:\n",
    "                found = True\n",
    "                table[ind] = value \n",
    "            i = i + 1\n",
    "\n",
    "print(table)\n",
    "insert(table,54,'54')\n",
    "print(table)\n",
    "insert(table,26,'26')\n",
    "print(table)\n",
    "insert(table,93,'93')\n",
    "print(table)\n",
    "insert(table,17,'17')\n",
    "print(table)\n",
    "insert(table,77,'77')\n",
    "print(table)\n",
    "insert(table,31,'31')\n",
    "print(table)\n",
    "insert(table,44,'44')\n",
    "print(table)\n",
    "insert(table,55,'55')\n",
    "print(table)\n",
    "insert(table,20,'20')\n",
    "print(table)"
   ]
  },
  {
   "cell_type": "code",
   "execution_count": 13,
   "metadata": {},
   "outputs": [
    {
     "name": "stdout",
     "output_type": "stream",
     "text": [
      "[[], [], [], [], [], [], [], [], [], [], []]\n",
      "[[], [], [], [], [], [], [], [], [], [], ['54']]\n",
      "[[], [], [], [], ['26'], [], [], [], [], [], ['54']]\n",
      "[[], [], [], [], ['26'], ['93'], [], [], [], [], ['54']]\n",
      "[[], [], [], [], ['26'], ['93'], ['17'], [], [], [], ['54']]\n",
      "[['77'], [], [], [], ['26'], ['93'], ['17'], [], [], [], ['54']]\n",
      "[['77'], [], [], [], ['26'], ['93'], ['17'], [], [], ['31'], ['54']]\n",
      "[['77', '44'], [], [], [], ['26'], ['93'], ['17'], [], [], ['31'], ['54']]\n",
      "[['77', '44', '55'], [], [], [], ['26'], ['93'], ['17'], [], [], ['31'], ['54']]\n",
      "[['77', '44', '55'], [], [], [], ['26'], ['93'], ['17'], [], [], ['31', '20'], ['54']]\n"
     ]
    }
   ],
   "source": [
    "#Chaining\n",
    "table=11\n",
    "table=[ [] for i in range(table)]\n",
    "\n",
    "def hash(x,table):\n",
    "    return x% len(table)\n",
    "def insert(table,key,value):\n",
    "    table[hash(key,table)].append(value)\n",
    "\n",
    "print(table)\n",
    "insert(table,54,'54')\n",
    "print(table)\n",
    "insert(table,26,'26')\n",
    "print(table)\n",
    "insert(table,93,'93')\n",
    "print(table)\n",
    "insert(table,17,'17')\n",
    "print(table)\n",
    "insert(table,77,'77')\n",
    "print(table)\n",
    "insert(table,31,'31')\n",
    "print(table)\n",
    "insert(table,44,'44')\n",
    "print(table)\n",
    "insert(table,55,'55')\n",
    "print(table)\n",
    "insert(table,20,'20')\n",
    "print(table)"
   ]
  },
  {
   "cell_type": "code",
   "execution_count": null,
   "metadata": {},
   "outputs": [],
   "source": []
  }
 ],
 "metadata": {
  "kernelspec": {
   "display_name": "Python 3",
   "language": "python",
   "name": "python3"
  },
  "language_info": {
   "codemirror_mode": {
    "name": "ipython",
    "version": 3
   },
   "file_extension": ".py",
   "mimetype": "text/x-python",
   "name": "python",
   "nbconvert_exporter": "python",
   "pygments_lexer": "ipython3",
   "version": "3.6.5"
  }
 },
 "nbformat": 4,
 "nbformat_minor": 2
}
