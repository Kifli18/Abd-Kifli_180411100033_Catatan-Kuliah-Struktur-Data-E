{
 "cells": [
  {
   "cell_type": "code",
   "execution_count": 2,
   "metadata": {},
   "outputs": [
    {
     "name": "stdout",
     "output_type": "stream",
     "text": [
      "<bound method Stack.isEmpty of <__main__.Stack object at 0x03568390>>\n",
      "true\n",
      "true\n",
      "hello\n"
     ]
    }
   ],
   "source": [
    "#Stack\n",
    "class Stack():\n",
    "    def __init__(self):\n",
    "        self.items = []\n",
    "    def isEmpty(self):\n",
    "        return self.items == []\n",
    "    def push(self,item):\n",
    "        self.items.append(item)\n",
    "    def pop(self):\n",
    "        return self.items.pop()\n",
    "    def peek(self):\n",
    "        return self.items[len(self.items)-1]\n",
    "    def size(self):\n",
    "        return len(self.items)\n",
    "s=Stack()\n",
    "s.push('hello')\n",
    "s.push('true')\n",
    "print(s.isEmpty)\n",
    "print(s.peek())\n",
    "while not s.isEmpty():\n",
    "    print(s.pop())"
   ]
  },
  {
   "cell_type": "code",
   "execution_count": 14,
   "metadata": {},
   "outputs": [
    {
     "name": "stdout",
     "output_type": "stream",
     "text": [
      "<bound method Stack.isEmpty of <__main__.Stack object at 0x03861230>>\n",
      "true\n",
      "true\n",
      "a\n",
      "r\n",
      "u\n",
      "p\n",
      "a\n",
      "g\n",
      "n\n",
      "i\n",
      "s\n"
     ]
    }
   ],
   "source": [
    "class Stack():\n",
    "    def __init__(self):\n",
    "        self.items = []\n",
    "    def isEmpty(self):\n",
    "        return self.items == []\n",
    "    def push(self,item):\n",
    "        self.items.append(item)\n",
    "    def pop(self):\n",
    "        return self.items.pop()\n",
    "    def peek(self):\n",
    "        return self.items[len(self.items)-1]\n",
    "    def size(self):\n",
    "        return len(self.items)\n",
    "s=Stack()\n",
    "s.push('s')\n",
    "s.push('i')\n",
    "s.push('n')\n",
    "s.push('g')\n",
    "s.push('a')\n",
    "s.push('p')\n",
    "s.push('u')\n",
    "s.push('r')\n",
    "s.push('a')\n",
    "s.push('true')\n",
    "print(s.isEmpty)\n",
    "print(s.peek())\n",
    "while not s.isEmpty():\n",
    "    print(s.pop())\n",
    "     "
   ]
  },
  {
   "cell_type": "code",
   "execution_count": 14,
   "metadata": {},
   "outputs": [
    {
     "name": "stdout",
     "output_type": "stream",
     "text": [
      "masukkan nama :jjd\n",
      "masukkan nama :kkl\n",
      "masukkan nama :kk\n",
      "masukkan nama :jjjjhhh\n",
      "antrian ['jjjjhhh', 'kk', 'kkl', 'jjd']\n",
      "masukkan nama yang ingin ditangkap : jjd\n",
      "nama yang anda cari ditemukan\n",
      "Looping sebanyak  1\n"
     ]
    }
   ],
   "source": [
    "#Qeue(satu antrian)\n",
    "\n",
    "class Queue():\n",
    "    def __init__(self):\n",
    "        self.items = []\n",
    "    def isEmpty(self):\n",
    "        return self.items == []\n",
    "    def enqueue(self,item):\n",
    "        self.items.insert(0,item)\n",
    "    def dequeue(self):\n",
    "        return self.items.pop()\n",
    "    def size(self):\n",
    "        return len(self.items)\n",
    "    def peek(self):\n",
    "        return (self.items[len(self.items)-1])\n",
    "    def printq(selft):\n",
    "        return selft.items\n",
    "    \n",
    "q=Queue()\n",
    "jumlah = 4 \n",
    "for i in range(jumlah):\n",
    "    nama = input('masukkan nama :')\n",
    "    q.enqueue(nama)\n",
    "print('antrian', q.printq())\n",
    "cari = input('masukkan nama yang ingin ditangkap : ')\n",
    "iterasi = 0\n",
    "found = False\n",
    "while not found :\n",
    "    if cari == q.peek():\n",
    "        print('nama yang anda cari ditemukan')\n",
    "        found = True\n",
    "    elif cari != q.peek():\n",
    "        masukan = q.dequeue()\n",
    "        q.enqueue(masukan)\n",
    "        found = False\n",
    "        print('Looping ke ', (iterasi+1), ':',q.printq())\n",
    "    iterasi = iterasi + 1\n",
    "print('Looping sebanyak ',iterasi)"
   ]
  },
  {
   "cell_type": "code",
   "execution_count": 15,
   "metadata": {},
   "outputs": [
    {
     "name": "stdout",
     "output_type": "stream",
     "text": [
      "3\n",
      "4\n"
     ]
    }
   ],
   "source": [
    "#Qeue\n",
    "class Queue:\n",
    "    def __init__(self):\n",
    "        self.items = []\n",
    "\n",
    "    def isEmpty(self):\n",
    "        return self.items == []\n",
    "\n",
    "    def enqueue(self, item):\n",
    "        self.items.insert(0,item)\n",
    "\n",
    "    def dequeue(self):\n",
    "        return self.items.pop() \n",
    "\n",
    "    def size(self):\n",
    "        return len(self.items)\n",
    "\n",
    "q=Queue()\n",
    "q.enqueue(4)\n",
    "q.enqueue('dog')\n",
    "q.enqueue(True)\n",
    "print(q.size())\n",
    "print(q.dequeue())\n"
   ]
  },
  {
   "cell_type": "code",
   "execution_count": 17,
   "metadata": {},
   "outputs": [
    {
     "name": "stdout",
     "output_type": "stream",
     "text": [
      "[True, 'dog', 4]\n",
      "3\n",
      "4\n",
      "dog\n",
      "True\n"
     ]
    }
   ],
   "source": [
    "class Queue():\n",
    "    def __init__(self):\n",
    "        self.items = []\n",
    "    def isEmpty(self):\n",
    "        return self.items == []\n",
    "    def enqueue(self,item):\n",
    "        self.items.insert(0,item)\n",
    "    def dequeue(self):\n",
    "        return self.items.pop()\n",
    "    def size(self):\n",
    "        return len(self.items)\n",
    "    def printq(selft):\n",
    "        return selft.items\n",
    "    \n",
    "q=Queue()\n",
    "q.enqueue(4)\n",
    "q.enqueue('dog')\n",
    "q.enqueue(True)\n",
    "print(q.printq())\n",
    "print(q.size())\n",
    "print(q.dequeue())\n",
    "while not q.isEmpty():\n",
    "    print(q.dequeue())\n"
   ]
  },
  {
   "cell_type": "code",
   "execution_count": 6,
   "metadata": {},
   "outputs": [
    {
     "name": "stdout",
     "output_type": "stream",
     "text": [
      "[True, 'dog', 4]\n",
      "3\n",
      "4\n"
     ]
    }
   ],
   "source": [
    "#Dequeue\n",
    "class deQueue:\n",
    "    def __init__(self):\n",
    "        self.items = []\n",
    "\n",
    "    def isEmpty(self):\n",
    "        return self.items == []\n",
    "\n",
    "    def enqueue(self, item):\n",
    "        self.items.insert(0,item)\n",
    "\n",
    "    def dequeue(self):\n",
    "        return self.items.pop()\n",
    "    \n",
    "    def addfront(self,item):\n",
    "        self.item.append()\n",
    "\n",
    "    def removerear(self):\n",
    "        return self.items.pop(0,item)\n",
    "    \n",
    "    def size(self):\n",
    "        return len(self.items)\n",
    "    \n",
    "    def printq(selft):\n",
    "        return selft.items\n",
    "    \n",
    "q=deQueue()\n",
    "q.enqueue(4)\n",
    "q.enqueue('dog')\n",
    "q.enqueue(True)\n",
    "print(q.printq())\n",
    "print(q.size())\n",
    "print(q.dequeue())\n",
    "\n"
   ]
  },
  {
   "cell_type": "code",
   "execution_count": 18,
   "metadata": {},
   "outputs": [
    {
     "name": "stdout",
     "output_type": "stream",
     "text": [
      "masukkan sebuah kata disini : refer\n",
      "kata ini adalah palindrome \n"
     ]
    }
   ],
   "source": [
    "#mencari kalimat polindrome menggunakan stack\n",
    "class Stack():\n",
    "    def __init__(self):\n",
    "        self.items = []\n",
    "    def isEmpty(self):\n",
    "        return self.items == []\n",
    "    def push(self,item):\n",
    "        self.items.append(item)\n",
    "    def pop(self):\n",
    "        return self.items.pop()\n",
    "    def peek(self):\n",
    "        return self.items[len(self.items)-1]\n",
    "    def size(self):\n",
    "        return len(self.items)\n",
    "q=Stack()\n",
    "kata = input('masukkan sebuah kata disini : ')\n",
    "kata = kata.lower()\n",
    "for i in kata:\n",
    "    q.push(i)\n",
    "reversed_text = ''\n",
    "while not q.isEmpty():\n",
    "    reversed_text = reversed_text + q.pop()\n",
    "if kata == reversed_text:\n",
    "    print('kata ini adalah palindrome ')\n",
    "else:\n",
    "    print('kata ini adalah bukan polindrome ')\n"
   ]
  },
  {
   "cell_type": "code",
   "execution_count": null,
   "metadata": {},
   "outputs": [],
   "source": []
  }
 ],
 "metadata": {
  "kernelspec": {
   "display_name": "Python 3",
   "language": "python",
   "name": "python3"
  },
  "language_info": {
   "codemirror_mode": {
    "name": "ipython",
    "version": 3
   },
   "file_extension": ".py",
   "mimetype": "text/x-python",
   "name": "python",
   "nbconvert_exporter": "python",
   "pygments_lexer": "ipython3",
   "version": "3.6.5"
  }
 },
 "nbformat": 4,
 "nbformat_minor": 2
}
