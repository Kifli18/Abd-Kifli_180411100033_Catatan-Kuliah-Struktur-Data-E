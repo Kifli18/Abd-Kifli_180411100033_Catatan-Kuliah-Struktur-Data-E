{
 "cells": [
  {
   "cell_type": "code",
   "execution_count": 1,
   "metadata": {},
   "outputs": [
    {
     "name": "stdout",
     "output_type": "stream",
     "text": [
      "semua tetangga dari vertex a : ['b', 'd']\n",
      "semua tetangga dari vertex d : ['a', 'b', 'c']\n",
      "\n",
      " Menampilkan semua vertex dan tetangganya masing-masing\n",
      "a : ['b', 'd']\n",
      "b : ['a', 'd']\n",
      "c : ['d']\n",
      "d : ['a', 'b', 'c']\n"
     ]
    }
   ],
   "source": [
    "adjLists = [['b','d'],['a','d'],['d'],['a','b','c']]\n",
    "node=['a','b','c','d']\n",
    "print(\"semua tetangga dari vertex a :\",adjLists[0])\n",
    "print(\"semua tetangga dari vertex d :\",adjLists[3])\n",
    "\n",
    "print(\"\\n Menampilkan semua vertex dan tetangganya masing-masing\")\n",
    "n = len(adjLists)\n",
    "for n in range(0,n):\n",
    "    print(node[n],\":\",adjLists[n])"
   ]
  },
  {
   "cell_type": "code",
   "execution_count": 2,
   "metadata": {},
   "outputs": [
    {
     "name": "stdout",
     "output_type": "stream",
     "text": [
      "semua tetangga dari vertex indeks ke a : ['b', 'd']\n",
      "semua tetangga dari vertex indeks ke d : ['a', 'b', 'c']\n",
      "\n",
      " menampilkan semua vertex dan tetangganya masing-masing\n",
      "a : ['b', 'd']\n",
      "b : ['a', 'd']\n",
      "c : ['d']\n",
      "d : ['a', 'b', 'c']\n"
     ]
    }
   ],
   "source": [
    "adjLists ={}\n",
    "#insert(vertex,list) pairs into dictionary\n",
    "adjLists_dict = {'a':['b','d'],\n",
    "                'b':['a','d'],\n",
    "                 'c':['d'],\n",
    "                 'd':['a','b','c'],\n",
    "                }\n",
    "#testing\n",
    "print(\"semua tetangga dari vertex indeks ke a :\",adjLists_dict['a'])\n",
    "print(\"semua tetangga dari vertex indeks ke d :\",adjLists_dict['d'])\n",
    "print(\"\\n menampilkan semua vertex dan tetangganya masing-masing\")\n",
    "\n",
    "for node in adjLists_dict:\n",
    "    print(node,\":\",adjLists_dict[node])"
   ]
  },
  {
   "cell_type": "code",
   "execution_count": 1,
   "metadata": {},
   "outputs": [
    {
     "name": "stdout",
     "output_type": "stream",
     "text": [
      "Adjacency list dari verex 0 \n",
      " head->3->1\n",
      "\n",
      "Adjacency list dari verex 1 \n",
      " head->3->0\n",
      "\n",
      "Adjacency list dari verex 2 \n",
      " head->3\n",
      "\n",
      "Adjacency list dari verex 3 \n",
      " head->2->1->0\n",
      "\n"
     ]
    }
   ],
   "source": [
    "class AdjNode:\n",
    "    def __init__(self,data):\n",
    "        self.vertex = data\n",
    "        self.next = None\n",
    "class Graph:\n",
    "    def __init__(self,vertices):\n",
    "        self.V = vertices\n",
    "        self.graph= [None]*self.V\n",
    "    def add_edge(self, src, dest):\n",
    "        node = AdjNode(dest)\n",
    "        node.next = self.graph[src]\n",
    "        self.graph[src]=node\n",
    "        \n",
    "        node = AdjNode(src)\n",
    "        node.next = self.graph[dest]\n",
    "        self.graph[dest]=node\n",
    "    \n",
    "    def print_graph(self):\n",
    "        for i in range(self.V):\n",
    "            print(\"Adjacency list dari verex {} \\n head\".format(i),end=\"\")\n",
    "            temp = self.graph[i]\n",
    "            while temp :\n",
    "                print(\"->{}\".format(temp.vertex),end=\"\")\n",
    "                temp = temp.next\n",
    "            print(\"\\n\")\n",
    "            \n",
    "if __name__ == \"__main__\":\n",
    "    V = 4\n",
    "    graph = Graph(V)\n",
    "    graph.add_edge(0,1)\n",
    "    graph.add_edge(0,3)\n",
    "    graph.add_edge(1,3)\n",
    "    graph.add_edge(2,3)\n",
    "    \n",
    "    graph.print_graph()"
   ]
  },
  {
   "cell_type": "code",
   "execution_count": 9,
   "metadata": {},
   "outputs": [
    {
     "name": "stdout",
     "output_type": "stream",
     "text": [
      "   0   1   0   1\n",
      "   1   0   0   1\n",
      "   0   0   0   1\n",
      "   1   1   1   0\n"
     ]
    }
   ],
   "source": [
    "class Graph(object):\n",
    "    def __init__(self, size):\n",
    "        self.adjMatrix = []\n",
    "        \n",
    "        for i in range(size):\n",
    "            self.adjMatrix.append([0 for i in range(size)])\n",
    "        self.size = size\n",
    "    \n",
    "    def addEdge(self, v1, v2):\n",
    "        if v1 == v2 :\n",
    "            print(\"Same vertex %d and %d\"%(v1,v2))\n",
    "        self.adjMatrix[v1][v2]=1\n",
    "        self.adjMatrix[v2][v1]=1\n",
    "        \n",
    "    def removeEdge(self, v1, v2):\n",
    "        if self.adjMatrix[v1][v2]==0:\n",
    "            print(\"No edge between %d and %d\"%(v1,v2))\n",
    "            return\n",
    "        self.adjMatrix[v1][v2]=0\n",
    "        \n",
    "    def containsEdge(self, v1, v2):\n",
    "        return True if self.adjMatrix[v1][v2]>0 else False\n",
    "    \n",
    "    def len(self):\n",
    "        return self.size\n",
    "    \n",
    "    def toString(self):\n",
    "        for row in self.adjMatrix:\n",
    "            for val in row:\n",
    "                print('{:4}'.format(val),end='')\n",
    "            print()\n",
    "            \n",
    "def main():\n",
    "    g = Graph(4)\n",
    "    g.addEdge(0,1)\n",
    "    g.addEdge(0,3)\n",
    "    g.addEdge(1,3)\n",
    "    g.addEdge(2,3)\n",
    "    \n",
    "    g.toString()\n",
    "    \n",
    "if __name__ == '__main__':\n",
    "    main()"
   ]
  },
  {
   "cell_type": "code",
   "execution_count": 18,
   "metadata": {},
   "outputs": [
    {
     "name": "stdout",
     "output_type": "stream",
     "text": [
      "Adjacency list dari verex 0 \n",
      " head3->1\n",
      "Adjacency list dari verex 1 \n",
      " head3->0\n",
      "Adjacency list dari verex 2 \n",
      " head3\n",
      "Adjacency list dari verex 3 \n",
      " head2->1->0\n",
      "Adjacency list dari verex 4 \n",
      " headNone\n",
      "Terpendek dari 3 ke 1 :  2\n"
     ]
    }
   ],
   "source": [
    "#mencari jalur terpendek menggunakan link list\n",
    "class AdjNode:\n",
    "    def __init__(self,data):\n",
    "        self.vertex = data\n",
    "        self.next = None\n",
    "    def __str__(self):\n",
    "        if (self.next != None):\n",
    "            return str(self.vertex)+ \"->\" + str(self.next)\n",
    "        else :\n",
    "            return str(self.vertex)\n",
    "class Graph:\n",
    "    def __init__(self,vertices):\n",
    "        self.V = vertices\n",
    "        self.graph= [None]*self.V\n",
    "    def add_edge(self, src, dest):\n",
    "        node = AdjNode(dest)\n",
    "        node.next = self.graph[src]\n",
    "        self.graph[src]=node\n",
    "        \n",
    "        node = AdjNode(src)\n",
    "        node.next = self.graph[dest]\n",
    "        self.graph[dest]=node\n",
    "    \n",
    "    def print_graph(self):\n",
    "        for i in range(self.V):\n",
    "            print(\"Adjacency list dari verex {} \\n head\".format(i),end=\"\")\n",
    "            print(str(self.graph[i]))\n",
    "    def shortest(self,start,end):\n",
    "        shortest_distance = 99999999\n",
    "        shortest_link = None\n",
    "        tmp_dest = 0\n",
    "        tmp_link = None\n",
    "        for (i, node) in enumerate(self.graph):\n",
    "            n = AdjNode(i)\n",
    "            n.next = node\n",
    "            node = n\n",
    "            tmp_link = None\n",
    "            while node!= None:\n",
    "                if (node.vertex == start):\n",
    "                    tmp_dest = 1\n",
    "                    tmp_link = node\n",
    "                elif (node.vertex == end):\n",
    "                    if(tmp_link != None and tmp_dest + 1 < shortest_distance):\n",
    "                        shortest_distance = tmp_dest\n",
    "                        shortest_link = tmp_link\n",
    "                    tmp_link = None\n",
    "                elif (tmp_link != None):\n",
    "                    tmp_dest +=1\n",
    "                node = node.next\n",
    "        nodeA = AdjNode(shortest_link.vertex)\n",
    "        node = nodeA\n",
    "        nodeB = shortest_link\n",
    "        for i in range(shortest_distance):\n",
    "            nodeB = nodeB.next\n",
    "            if(nodeB != None):\n",
    "                node = node.next\n",
    "        return nodeA\n",
    "                \n",
    "if __name__ == \"__main__\":\n",
    "    V = 4\n",
    "    graph = Graph(V)\n",
    "    graph.add_edge(0,1)\n",
    "    graph.add_edge(0,3)\n",
    "    graph.add_edge(1,3)\n",
    "    graph.add_edge(2,3)    \n",
    "    graph.print_graph()\n",
    "    print(\"Terpendek dari 3 ke 1 : \", str(graph.shortest(2,3)))"
   ]
  },
  {
   "cell_type": "code",
   "execution_count": null,
   "metadata": {},
   "outputs": [],
   "source": []
  }
 ],
 "metadata": {
  "kernelspec": {
   "display_name": "Python 3",
   "language": "python",
   "name": "python3"
  },
  "language_info": {
   "codemirror_mode": {
    "name": "ipython",
    "version": 3
   },
   "file_extension": ".py",
   "mimetype": "text/x-python",
   "name": "python",
   "nbconvert_exporter": "python",
   "pygments_lexer": "ipython3",
   "version": "3.6.5"
  }
 },
 "nbformat": 4,
 "nbformat_minor": 2
}
